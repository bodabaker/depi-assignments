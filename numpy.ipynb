{
 "cells": [
  {
   "cell_type": "code",
   "execution_count": 1,
   "metadata": {},
   "outputs": [],
   "source": [
    "import numpy as np"
   ]
  },
  {
   "cell_type": "markdown",
   "metadata": {},
   "source": [
    "# 1. Broadcasting"
   ]
  },
  {
   "cell_type": "code",
   "execution_count": 3,
   "metadata": {},
   "outputs": [
    {
     "data": {
      "text/plain": [
       "array([[11, 22, 33],\n",
       "       [41, 52, 63]])"
      ]
     },
     "execution_count": 3,
     "metadata": {},
     "output_type": "execute_result"
    }
   ],
   "source": [
    "# a) Add a 1D array `[1, 2, 3]` to each row of a 2D array `[[10, 20, 30], [40, 50, 60]]`.\n",
    "# Expected: [[11, 22, 33], [41, 52, 63]]\n",
    "\n",
    "a1d = np.array([1,2,3])\n",
    "a2d = np.array([[10,20,30],[40,50,60]])\n",
    "a1d+a2d"
   ]
  },
  {
   "cell_type": "code",
   "execution_count": 18,
   "metadata": {},
   "outputs": [
    {
     "data": {
      "text/plain": [
       "array([[10, 20],\n",
       "       [60, 80]])"
      ]
     },
     "execution_count": 18,
     "metadata": {},
     "output_type": "execute_result"
    }
   ],
   "source": [
    "# b) Multiply a 2D array `[[1, 2], [3, 4]]` by a 1D array `[10, 20]` column-wise.\n",
    "# Expected: [[10, 20], [60, 80]]\n",
    "a1d=np.array([10,20])\n",
    "a2d = np.array([[1,2],[3,4]])\n",
    "a1d = a1d.reshape(2,1)\n",
    "a1d*a2d"
   ]
  },
  {
   "cell_type": "markdown",
   "metadata": {},
   "source": [
    "# 2. Indexing and Slicing (High Dimensional Arrays)"
   ]
  },
  {
   "cell_type": "code",
   "execution_count": 19,
   "metadata": {},
   "outputs": [],
   "source": [
    "arr = np.arange(1, 25).reshape(2, 3, 4)"
   ]
  },
  {
   "cell_type": "code",
   "execution_count": 25,
   "metadata": {},
   "outputs": [
    {
     "data": {
      "text/plain": [
       "array([[13, 14, 15, 16],\n",
       "       [17, 18, 19, 20],\n",
       "       [21, 22, 23, 24]])"
      ]
     },
     "execution_count": 25,
     "metadata": {},
     "output_type": "execute_result"
    }
   ],
   "source": [
    "# a) Extract the second slice along axis 0.\n",
    "# Expected: [[13, 14, 15, 16], [17, 18, 19, 20], [21, 22, 23, 24]]\n",
    "arr[1]"
   ]
  },
  {
   "cell_type": "code",
   "execution_count": 26,
   "metadata": {},
   "outputs": [
    {
     "data": {
      "text/plain": [
       "array([[ 4,  8, 12],\n",
       "       [16, 20, 24]])"
      ]
     },
     "execution_count": 26,
     "metadata": {},
     "output_type": "execute_result"
    }
   ],
   "source": [
    "# b) Extract all rows and the last column for all slices.\n",
    "# Expected: [[4, 8, 12], [16, 20, 24]]\n",
    "arr[:,:,-1]"
   ]
  },
  {
   "cell_type": "code",
   "execution_count": 27,
   "metadata": {},
   "outputs": [
    {
     "data": {
      "text/plain": [
       "array([[[13, 14, 15, 16],\n",
       "        [17, 18, 19, 20],\n",
       "        [21, 22, 23, 24]],\n",
       "\n",
       "       [[ 1,  2,  3,  4],\n",
       "        [ 5,  6,  7,  8],\n",
       "        [ 9, 10, 11, 12]]])"
      ]
     },
     "execution_count": 27,
     "metadata": {},
     "output_type": "execute_result"
    }
   ],
   "source": [
    "# c) Reverse the order of slices along axis 0.\n",
    "# Expected: [[[13, 14, 15, 16], ...], [[1, 2, 3, 4], ...]]\n",
    "arr[::-1]"
   ]
  },
  {
   "cell_type": "code",
   "execution_count": 28,
   "metadata": {},
   "outputs": [
    {
     "data": {
      "text/plain": [
       "array([[[ 1, -1,  3, -1],\n",
       "        [ 5, -1,  7, -1],\n",
       "        [ 9, -1, 11, -1]],\n",
       "\n",
       "       [[13, -1, 15, -1],\n",
       "        [17, -1, 19, -1],\n",
       "        [21, -1, 23, -1]]])"
      ]
     },
     "execution_count": 28,
     "metadata": {},
     "output_type": "execute_result"
    }
   ],
   "source": [
    "# d) Set all even elements in the array to -1.\n",
    "# Expected: All even numbers replaced by -1.\n",
    "arr[arr%2==0] = -1\n",
    "arr"
   ]
  },
  {
   "cell_type": "markdown",
   "metadata": {},
   "source": [
    "# 3. np.repeat"
   ]
  },
  {
   "cell_type": "code",
   "execution_count": 31,
   "metadata": {},
   "outputs": [
    {
     "data": {
      "text/plain": [
       "array([1, 1, 3, 3, 5, 5])"
      ]
     },
     "execution_count": 31,
     "metadata": {},
     "output_type": "execute_result"
    }
   ],
   "source": [
    "# a) Given `arr = np.array([1, 2, 3, 4, 5, 6])`, create a new array where every odd element is repeated twice.\n",
    "# Expected: [1, 1, 3, 3, 5, 5]\n",
    "arr = np.array([1,2,3,4,5,6])\n",
    "np.repeat(arr[arr%2!=0], 2)"
   ]
  },
  {
   "cell_type": "code",
   "execution_count": 32,
   "metadata": {},
   "outputs": [
    {
     "data": {
      "text/plain": [
       "array([1, 2, 2, 3, 3, 3, 4, 4, 4, 4, 5, 5, 5, 5, 5, 6, 6, 6, 6, 6, 6])"
      ]
     },
     "execution_count": 32,
     "metadata": {},
     "output_type": "execute_result"
    }
   ],
   "source": [
    "# b) Given `arr = np.array([1, 2, 3, 4, 5, 6])`, create a new array where elements are repeated based on their value.\n",
    "# For example, `1` is repeated once, `2` twice, etc.\n",
    "# Expected: [1, 2, 2, 3, 3, 3, 4, 4, 4, 4, ...]\n",
    "arr = np.array([1, 2, 3, 4, 5, 6])\n",
    "np.repeat(arr,arr)"
   ]
  },
  {
   "cell_type": "markdown",
   "metadata": {},
   "source": [
    "# 4. Normalizing"
   ]
  },
  {
   "cell_type": "code",
   "execution_count": 42,
   "metadata": {},
   "outputs": [
    {
     "data": {
      "text/plain": [
       "array([0. , 0.5, 1. ])"
      ]
     },
     "execution_count": 42,
     "metadata": {},
     "output_type": "execute_result"
    }
   ],
   "source": [
    "# a) Normalize a 1D array `arr = np.array([10, 20, 30])` to have values between 0 and 1.\n",
    "# Expected: [0.0, 0.5, 1.0]\n",
    "arr = np.array([10,20,30])\n",
    "(arr-arr.min())/(arr.max()-arr.min())"
   ]
  },
  {
   "cell_type": "markdown",
   "metadata": {},
   "source": [
    "# 5. Bonus Challenge"
   ]
  },
  {
   "cell_type": "code",
   "execution_count": 44,
   "metadata": {},
   "outputs": [
    {
     "data": {
      "text/plain": [
       "array([[0, 0, 0],\n",
       "       [0, 1, 2],\n",
       "       [0, 2, 4]])"
      ]
     },
     "execution_count": 44,
     "metadata": {},
     "output_type": "execute_result"
    }
   ],
   "source": [
    "# a) Create a 3x3 matrix where each element at position (i, j) is i * j.\n",
    "# Expected: [[0, 0, 0], [0, 1, 2], [0, 2, 4]]\n",
    "arr = np.fromfunction(lambda i, j: i * j, (3, 3), dtype=int)\n",
    "arr"
   ]
  },
  {
   "cell_type": "code",
   "execution_count": 49,
   "metadata": {},
   "outputs": [
    {
     "name": "stdout",
     "output_type": "stream",
     "text": [
      "[[0 2 8 4]\n",
      " [4 0 8 9]\n",
      " [4 1 0 6]\n",
      " [1 5 7 0]]\n"
     ]
    }
   ],
   "source": [
    "# b) Given a 4x4 matrix, replace all elements on the main diagonal with 0 without using a loop.\n",
    "# Expected: Diagonal elements replaced with 0.\n",
    "arr = np.random.randint(1,10,(4,4))\n",
    "np.fill_diagonal(arr,0)\n",
    "print(arr)"
   ]
  }
 ],
 "metadata": {
  "kernelspec": {
   "display_name": "Python 3",
   "language": "python",
   "name": "python3"
  },
  "language_info": {
   "codemirror_mode": {
    "name": "ipython",
    "version": 3
   },
   "file_extension": ".py",
   "mimetype": "text/x-python",
   "name": "python",
   "nbconvert_exporter": "python",
   "pygments_lexer": "ipython3",
   "version": "3.12.7"
  }
 },
 "nbformat": 4,
 "nbformat_minor": 2
}
